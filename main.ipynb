{
 "cells": [
  {
   "cell_type": "markdown",
   "metadata": {},
   "source": [
    "**Autores**\n",
    "- Eduardo Venegas\n",
    "- Axel Magallón\n",
    "- Alex Hernández\n",
    "- Diego Ortiz\n",
    "- Pablo Blanco\n",
    "\n",
    "### Actividad: Protocolos de votación"
   ]
  },
  {
   "cell_type": "markdown",
   "metadata": {},
   "source": [
    "**Importar las librerías necesarias**"
   ]
  },
  {
   "cell_type": "code",
   "execution_count": 1,
   "metadata": {},
   "outputs": [],
   "source": [
    "import pandas as pd\n",
    "import numpy as np"
   ]
  },
  {
   "cell_type": "markdown",
   "metadata": {},
   "source": [
    "**Leer el documento y guardarlo dentro de un DataFrame**"
   ]
  },
  {
   "cell_type": "code",
   "execution_count": 2,
   "metadata": {},
   "outputs": [
    {
     "data": {
      "text/html": [
       "<div>\n",
       "<style scoped>\n",
       "    .dataframe tbody tr th:only-of-type {\n",
       "        vertical-align: middle;\n",
       "    }\n",
       "\n",
       "    .dataframe tbody tr th {\n",
       "        vertical-align: top;\n",
       "    }\n",
       "\n",
       "    .dataframe thead th {\n",
       "        text-align: right;\n",
       "    }\n",
       "</style>\n",
       "<table border=\"1\" class=\"dataframe\">\n",
       "  <thead>\n",
       "    <tr style=\"text-align: right;\">\n",
       "      <th></th>\n",
       "      <th>Con piña</th>\n",
       "      <th>Sin piña</th>\n",
       "      <th>Mejor tacos</th>\n",
       "      <th>Mejor hamburguesas</th>\n",
       "      <th>Mejor pasta</th>\n",
       "    </tr>\n",
       "    <tr>\n",
       "      <th>Voter</th>\n",
       "      <th></th>\n",
       "      <th></th>\n",
       "      <th></th>\n",
       "      <th></th>\n",
       "      <th></th>\n",
       "    </tr>\n",
       "  </thead>\n",
       "  <tbody>\n",
       "    <tr>\n",
       "      <th>1</th>\n",
       "      <td>1</td>\n",
       "      <td>2</td>\n",
       "      <td>3</td>\n",
       "      <td>4</td>\n",
       "      <td>5</td>\n",
       "    </tr>\n",
       "    <tr>\n",
       "      <th>2</th>\n",
       "      <td>2</td>\n",
       "      <td>3</td>\n",
       "      <td>5</td>\n",
       "      <td>1</td>\n",
       "      <td>4</td>\n",
       "    </tr>\n",
       "    <tr>\n",
       "      <th>3</th>\n",
       "      <td>5</td>\n",
       "      <td>1</td>\n",
       "      <td>2</td>\n",
       "      <td>3</td>\n",
       "      <td>4</td>\n",
       "    </tr>\n",
       "    <tr>\n",
       "      <th>4</th>\n",
       "      <td>2</td>\n",
       "      <td>1</td>\n",
       "      <td>3</td>\n",
       "      <td>4</td>\n",
       "      <td>5</td>\n",
       "    </tr>\n",
       "    <tr>\n",
       "      <th>5</th>\n",
       "      <td>4</td>\n",
       "      <td>5</td>\n",
       "      <td>1</td>\n",
       "      <td>2</td>\n",
       "      <td>3</td>\n",
       "    </tr>\n",
       "  </tbody>\n",
       "</table>\n",
       "</div>"
      ],
      "text/plain": [
       "       Con piña  Sin piña  Mejor tacos  Mejor hamburguesas  Mejor pasta\n",
       "Voter                                                                  \n",
       "1             1         2            3                   4            5\n",
       "2             2         3            5                   1            4\n",
       "3             5         1            2                   3            4\n",
       "4             2         1            3                   4            5\n",
       "5             4         5            1                   2            3"
      ]
     },
     "execution_count": 2,
     "metadata": {},
     "output_type": "execute_result"
    }
   ],
   "source": [
    "DATA = pd.read_excel('data.xlsx', index_col=0)\n",
    "DATA.head()"
   ]
  },
  {
   "cell_type": "code",
   "execution_count": 3,
   "metadata": {},
   "outputs": [
    {
     "name": "stdout",
     "output_type": "stream",
     "text": [
      "Dimensiones del DataFrame: (24, 5)\n"
     ]
    }
   ],
   "source": [
    "print(f\"Dimensiones del DataFrame: {DATA.shape}\")"
   ]
  },
  {
   "cell_type": "markdown",
   "metadata": {},
   "source": [
    "**Función de votación de pluralidad**"
   ]
  },
  {
   "cell_type": "code",
   "execution_count": 4,
   "metadata": {},
   "outputs": [],
   "source": [
    "def pluralidad(data: pd.DataFrame, porcentaje: bool = False) -> str and float:\n",
    "    \"\"\"Votación de pluralidad es la votación simple en donde gana el que más aparece en primer lugar\n",
    "\n",
    "    Args:\n",
    "        data (DataFrame): Los datos de donde se realizó la votación\n",
    "\n",
    "    Returns:\n",
    "        str: El string del ganador de la votación\n",
    "        float: El porcentaje con el que ganó\n",
    "    \"\"\"\n",
    "    winner = ''\n",
    "    winner_counts = 0\n",
    "    for col in data.columns:\n",
    "        n = np.sum(data[col] == 1)\n",
    "        if n > winner_counts:\n",
    "            winner = col\n",
    "            winner_counts = n\n",
    "            \n",
    "    if not porcentaje:\n",
    "        return winner\n",
    "    else:\n",
    "        return winner, round(winner_counts / len(data), 2)"
   ]
  },
  {
   "cell_type": "code",
   "execution_count": 5,
   "metadata": {},
   "outputs": [],
   "source": [
    "def borda(data: pd.DataFrame, ganador: bool = True) -> str:\n",
    "    \"\"\"Votación de borda es aquel donde se le asigna un número a cada opción, y se suman los números de las opciones que ganó cada candidato\n",
    "\n",
    "    Args:\n",
    "        data (DataFrame): Los datos de donde se realizó la votación\n",
    "\n",
    "    Returns:\n",
    "        str: El string del ganador de la votación\n",
    "    \"\"\"\n",
    "    temp = {col: 0 for col in data.columns}\n",
    "    for col in data.columns:\n",
    "        for elem in data[col]:\n",
    "            temp[col] += 6 - elem\n",
    "            \n",
    "    for category, value in temp.items():\n",
    "        if value == max(temp.values()) and ganador:\n",
    "            return category\n",
    "        elif value == min(temp.values()) and not ganador:\n",
    "            return category"
   ]
  },
  {
   "cell_type": "code",
   "execution_count": 6,
   "metadata": {},
   "outputs": [],
   "source": [
    "def segunda_vuelta(data: pd.DataFrame) -> str:\n",
    "    \"\"\"Votación de segunda vuelta es donde se comprueba si un candidato tiene más de 50% desde un principio, en caso\n",
    "        contrario se elimina el candidato con menor votación (con método de borda) y se vuelve a ejecutar el loop\n",
    "\n",
    "    Args:\n",
    "        data (DataFrame): Los datos de donde se realizó la votación\n",
    "\n",
    "    Returns:\n",
    "        str: El string del ganador de la votación\n",
    "    \"\"\"\n",
    "    temp = data.copy()\n",
    "    winner, winner_percentage = pluralidad(temp, True)\n",
    "    while winner_percentage < 0.5:\n",
    "        loser = borda(temp, False)\n",
    "        for i, row in temp.iterrows():\n",
    "            loser_value = row[loser]\n",
    "            temp_row = row.copy()\n",
    "            for j, temp_value in enumerate(temp_row):\n",
    "                if temp_value > loser_value:\n",
    "                    temp_row[j] = temp_value - 1\n",
    "            temp.loc[i] = temp_row\n",
    "        \n",
    "        temp = temp.drop(loser, axis=1)\n",
    "        winner, winner_percentage = pluralidad(temp, True)\n",
    "        \n",
    "    return winner"
   ]
  },
  {
   "cell_type": "code",
   "execution_count": 7,
   "metadata": {},
   "outputs": [
    {
     "name": "stdout",
     "output_type": "stream",
     "text": [
      "Votación de pluralidad: \"Sin piña\"\n",
      "Votación de borda: \"Mejor tacos\"\n",
      "Votación de segunda vuelta: \"Mejor tacos\"\n"
     ]
    }
   ],
   "source": [
    "print(f'Votación de pluralidad: \"{pluralidad(DATA)}\"')\n",
    "print(f'Votación de borda: \"{borda(DATA)}\"')\n",
    "print(f'Votación de segunda vuelta: \"{segunda_vuelta(DATA)}\"')"
   ]
  },
  {
   "cell_type": "markdown",
   "metadata": {},
   "source": [
    "**Conclusión**"
   ]
  },
  {
   "cell_type": "markdown",
   "metadata": {},
   "source": [
    "La votación de pluralidad es la que se utiliza usualmente, pero solo tiene en consideración el que sale más veces en primer lugar de todos los votantes. Es decir, como no considera el orden, podemos decir que la mayoría no quedará satisfecha con el resultado de la votación. \n",
    "\n",
    "Por otro lado, la votación con el método de borda considera el orden de preferencias de cada uno de los votantes. Es decir, pese a que no sea el candidato favorito de la mayoría de los votantes, el candidato que se elija va a ser el que tiene la mejor preferencia considerando a todos y cada uno de los votantes.\n",
    "\n",
    "Por último, el de segunda vuelta también considera el orden de preferencia de los votantes, pero va eliminando al de menor preferencia para asegurarse de que el candidato elegido sea aquel que la mayoría prefiera."
   ]
  },
  {
   "cell_type": "markdown",
   "metadata": {},
   "source": []
  }
 ],
 "metadata": {
  "interpreter": {
   "hash": "51bb042b9f0d2dd94180cd283a4bb2f9f2f5b7cb1dc8e6bcb73da74ed2cca801"
  },
  "kernelspec": {
   "display_name": "Python 3.8.5 64-bit ('venv': venv)",
   "language": "python",
   "name": "python3"
  },
  "language_info": {
   "codemirror_mode": {
    "name": "ipython",
    "version": 3
   },
   "file_extension": ".py",
   "mimetype": "text/x-python",
   "name": "python",
   "nbconvert_exporter": "python",
   "pygments_lexer": "ipython3",
   "version": "3.8.5"
  },
  "orig_nbformat": 4
 },
 "nbformat": 4,
 "nbformat_minor": 2
}
